{
 "cells": [
  {
   "cell_type": "markdown",
   "metadata": {
    "colab_type": "text",
    "id": "x6rcF4vg7CTX"
   },
   "source": [
    "# **Clasificación de textos usando LSTM y CNN**"
   ]
  },
  {
   "cell_type": "markdown",
   "metadata": {
    "colab_type": "text",
    "id": "x_Fn8cRWqUxU"
   },
   "source": [
    "## 1. Consigna\n",
    "\n",
    "Las redes neuronales vienen demostrando enlos últimos años un gran desempeño a la hora de desarrollar tareas de clasificación en general, y de clasificación de textos y análisis de sentimientos en particular. Dentro de las múltiples arquitecturas posibles, destacan las familias de redes recurrentes (particularmente las Long-Short Term Memory) y las redes convolucionales. Vamos a proceder a aplicar modelos basados en estas arquitecturas para predecir la clasificación dentro de nuestro conjunto de datos.\n",
    "\n",
    "Para la vectorización de las palabras entrenaremos al principio de los modelos un embedding neuronal de la librería torch, con la cual también generaremos los modelos de redes para entrenar."
   ]
  },
  {
   "cell_type": "markdown",
   "metadata": {
    "colab_type": "text",
    "id": "u7fp8NQEywxo"
   },
   "source": [
    "## 2. Inicialización del entorno"
   ]
  },
  {
   "cell_type": "code",
   "execution_count": 1,
   "metadata": {
    "colab": {},
    "colab_type": "code",
    "id": "7KdM25aVtlis"
   },
   "outputs": [],
   "source": [
    "#Librerías \n",
    "import warnings\n",
    "warnings.filterwarnings(\"ignore\")\n",
    "\n",
    "import os\n",
    "import numpy as np\n",
    "import pandas as pd\n",
    "from ast import literal_eval\n",
    "import re\n",
    "import itertools\n",
    "\n",
    "# Para gráficos\n",
    "import matplotlib.pyplot as plt\n",
    "import seaborn as sns\n",
    "from scipy import stats\n",
    "from yellowbrick.text import FreqDistVisualizer\n",
    "\n",
    "# Para dividir el dataset en train  y test\n",
    "from sklearn.model_selection import train_test_split\n",
    "from sklearn import model_selection\n",
    "\n",
    "# Para tratamiento de texto\n",
    "from sklearn.feature_extraction.text import CountVectorizer\n",
    "\n",
    "# Para el cálculo de tf y tf–idf \n",
    "from sklearn.feature_extraction.text import TfidfTransformer\n",
    "\n",
    "# Algoritmo del Árbol de Decisión\n",
    "from sklearn.tree import (DecisionTreeClassifier, plot_tree)\n",
    "\n",
    "# Para utilizar Naive-Bayes para la clasificación\n",
    "from sklearn.naive_bayes import MultinomialNB\n",
    "\n",
    "# Para utilizar el algoritmo del gradiente descendiente\n",
    "#from sklearn.linear_model import SGDClassifier\n",
    "\n",
    "# Para calcular métricas\n",
    "from sklearn.metrics import (accuracy_score, precision_score, recall_score,\n",
    "                             f1_score, classification_report, plot_roc_curve, confusion_matrix) \n",
    "\n",
    "# Para vectorizar los tokens\n",
    "from sklearn.feature_extraction.text import CountVectorizer\n",
    "\n",
    "# Utiles\n",
    "from utiles import basic_metrics\n",
    "from utiles import plot_cm\n",
    "from utiles import plot_roc_pr\n",
    "\n",
    "# Colores\n",
    "BLUE   = '#5DADE2'\n",
    "RED    = '#ff7043'\n",
    "ORANGE = '#F5B041'\n",
    "GREEN  = '#58D68D'\n",
    "YELLOW = '#F4D03F'\n",
    "\n",
    "# Plot axes y legends parambs\n",
    "plt.rcParams[\"axes.labelweight\"]   = \"bold\"\n",
    "plt.rcParams[\"axes.titleweight\"]   = \"bold\"\n",
    "plt.rcParams[\"legend.shadow\"]      = True\n",
    "plt.rcParams[\"figure.titleweight\"] = \"bold\"\n",
    "\n",
    "# Classes\n",
    "classes = ['0 - Negativa', '1 - Positiva']"
   ]
  },
  {
   "cell_type": "markdown",
   "metadata": {
    "colab_type": "text",
    "id": "oiJJA7XJqUxe"
   },
   "source": [
    "#### **Funciones**"
   ]
  },
  {
   "cell_type": "code",
   "execution_count": 2,
   "metadata": {
    "colab": {},
    "colab_type": "code",
    "id": "Owk23I72qUxg"
   },
   "outputs": [],
   "source": [
    "# Informa los reultados obtenidos mediante la matriz de confusión (heatmap) y classification_report\n",
    "def informar_resultados(y_test, pred_y, y_test_pred_prob, Title=''):\n",
    "    print (classification_report(y_test, pred_y), '\\n\\n')\n",
    "    conf_matrix = confusion_matrix(y_test, pred_y)\n",
    "    plt.figure(figsize=(6, 6))\n",
    "    sns.heatmap(conf_matrix, xticklabels=classes, yticklabels=classes, annot=True, fmt=\"d\", cmap='Greens', linecolor='black', linewidths=1, square=True, cbar=False);\n",
    "    plt.title(Title + \" - Matriz de Confusión\")\n",
    "    plt.ylabel('Real')\n",
    "    plt.xlabel('Predicción')\n",
    "    plt.show()\n",
    "    plot_roc_pr(y_test,  pred_y, y_test_pred_prob, Title= Title + ' - ROC PR',  x_text=0.4, y_text=0.2, size_text=12, size=(12,5), ms=15, colorR=ORANGE, colorP=GREEN, label=None);"
   ]
  },
  {
   "cell_type": "markdown",
   "metadata": {
    "colab_type": "text",
    "id": "AXA7dA7CC2Pc"
   },
   "source": [
    "## 3. Carga de datos "
   ]
  },
  {
   "cell_type": "markdown",
   "metadata": {
    "colab_type": "text",
    "id": "dgnkYkv-jdb2"
   },
   "source": [
    "El archivo **yup_curated_data.csv** se genera a partir del archivo yup_messages_preprocessed.csv y datadump-20150801-20171219.csv y se cura para aplicar sobre el mismo técnicas de procesamiento del lenguaje natural. La curación de dicho archivo fue realizada en la notebook [Practico_3y4_part_2y3_preparacion](https://github.com/giannipablo/MentoriaDiploDatos2020/blob/master/Practico_3y4_part_2y3_preparacion.ipynb)"
   ]
  },
  {
   "cell_type": "code",
   "execution_count": 3,
   "metadata": {
    "colab": {},
    "colab_type": "code",
    "id": "xHx-TQAfqUxo"
   },
   "outputs": [],
   "source": [
    "# Desde Colab\n",
    "#from google.colab import files   \n",
    "#uploaded = files.upload()"
   ]
  },
  {
   "cell_type": "code",
   "execution_count": 4,
   "metadata": {
    "colab": {},
    "colab_type": "code",
    "id": "BrMzpxJDqUxu"
   },
   "outputs": [],
   "source": [
    "# Desde el entorno local\n",
    "filename = 'yup_curated_data.csv'\n",
    "datos_curados = pd.read_csv(os.path.join('..', 'dataset', filename))"
   ]
  },
  {
   "cell_type": "markdown",
   "metadata": {
    "colab_type": "text",
    "id": "ZC4_u3l7bhHd"
   },
   "source": [
    "#### Dimensiones del dataset *datos curados*."
   ]
  },
  {
   "cell_type": "code",
   "execution_count": 5,
   "metadata": {
    "colab": {
     "base_uri": "https://localhost:8080/",
     "height": 67
    },
    "colab_type": "code",
    "id": "_-8CJXZJpeTr",
    "outputId": "faf0a24a-b2aa-46b8-8c3e-94d7a28d8778"
   },
   "outputs": [
    {
     "name": "stdout",
     "output_type": "stream",
     "text": [
      "\n",
      "Dimensiones del dataset\n",
      "\n",
      "Filas: 17429\n",
      "Columnas: 22\n"
     ]
    }
   ],
   "source": [
    "print ('\\nDimensiones del dataset\\n')\n",
    "print ('Filas: {}'.format(datos_curados.shape[0]))\n",
    "print ('Columnas: {}'.format(datos_curados.shape[1]))"
   ]
  },
  {
   "cell_type": "markdown",
   "metadata": {
    "colab_type": "text",
    "id": "oF5PYVqo77Va"
   },
   "source": [
    "## 4. Limpieza de datos"
   ]
  },
  {
   "cell_type": "markdown",
   "metadata": {
    "colab_type": "text",
    "id": "AFZKdMkkqUx7"
   },
   "source": [
    "#### **Remoción de las sesiones con pocos turnos del estudiante o del tutor**\n",
    "\n",
    "Cuando las sesiones cuenten con menos de 3 turnos del estudiante o del tutor se considera que el intercambio no es significativo por lo que se remueven dichas sesiones. "
   ]
  },
  {
   "cell_type": "code",
   "execution_count": 6,
   "metadata": {
    "colab": {},
    "colab_type": "code",
    "id": "dczaCASlqUx8",
    "outputId": "6ce1c862-bc14-4f5b-d562-05c52276389b"
   },
   "outputs": [
    {
     "name": "stdout",
     "output_type": "stream",
     "text": [
      "\n",
      "Del dataset datos curados se remueven en total 1124 sesiones con menos de 3 turnos del estudiante o del tutor\n",
      "\n"
     ]
    }
   ],
   "source": [
    "n_short_sessions = len(datos_curados[(datos_curados.n_msg_tutor < 3) | (datos_curados.n_msg_student < 3)])\n",
    "datos_curados = datos_curados.drop(datos_curados[(datos_curados.n_msg_tutor < 3) | (datos_curados.n_msg_student < 3)].index)\n",
    "\n",
    "print('\\nDel dataset datos curados se remueven en total {} sesiones con menos de 3 turnos del estudiante o del tutor\\n'.format(n_short_sessions))"
   ]
  },
  {
   "cell_type": "markdown",
   "metadata": {
    "colab_type": "text",
    "id": "Jdg1l60_qUyE"
   },
   "source": [
    "#### **Remoción de las sesiones con la columna de tokens del estudiante o del tutor nula**\n",
    "\n",
    "Se remueven aquellos diálogos sin información en las columnas de tokens del tutor o del estudiante."
   ]
  },
  {
   "cell_type": "code",
   "execution_count": 7,
   "metadata": {
    "colab": {},
    "colab_type": "code",
    "id": "Ap7SQTOhqUyF",
    "outputId": "a16aba93-0360-40e4-9a4e-61fcfc55b79f"
   },
   "outputs": [
    {
     "name": "stdout",
     "output_type": "stream",
     "text": [
      "\n",
      "Se remueven 0 sesiones sin tokens del tutor\n",
      "\n",
      "Se remueven 0 sesiones sin tokens del estudiante\n",
      "\n",
      "Dimensiones del dataset\n",
      "\n",
      "Filas: 16305\n",
      "Columnas: 22\n"
     ]
    }
   ],
   "source": [
    "n_null_token_tutor = datos_curados['tokens_tutor'].isnull().sum()\n",
    "n_null_token_student = datos_curados['tokens_student'].isnull().sum()\n",
    "datos_curados = datos_curados.dropna(subset=['tokens_tutor','tokens_student'])\n",
    "print('\\nSe remueven {} sesiones sin tokens del tutor'.format(n_null_token_tutor))\n",
    "print('\\nSe remueven {} sesiones sin tokens del estudiante'.format(n_null_token_student))\n",
    "\n",
    "\n",
    "print ('\\nDimensiones del dataset\\n')\n",
    "print ('Filas: {}'.format(datos_curados.shape[0]))\n",
    "print ('Columnas: {}'.format(datos_curados.shape[1]))"
   ]
  },
  {
   "cell_type": "markdown",
   "metadata": {
    "colab_type": "text",
    "id": "32UzcdMC7xrb"
   },
   "source": [
    "#### **Unificación de las expresiones algebraicas bajo el tag math**\n",
    "\n",
    "Debido a que los sesiones corresponden a diálogos que contienen consultas sobre química, física o matemática, los mismos pueden contener fórmulas matemáticas. Por lo tanto, se decide unificar los unigramas que contienen al menos un dígito y al menos un operador algebraico bajo el tag **math** usando una expresión regular."
   ]
  },
  {
   "cell_type": "code",
   "execution_count": 8,
   "metadata": {
    "colab": {},
    "colab_type": "code",
    "id": "X_Y6ZcqE8RkS"
   },
   "outputs": [],
   "source": [
    "datos_curados['tokens_tutor'] = datos_curados.tokens_tutor.apply(lambda x: literal_eval(x))\n",
    "datos_curados['tokens_student'] = datos_curados.tokens_student.apply(lambda x: literal_eval(x))\n",
    "\n",
    "# Utilizamos expresiones regulares para unificar los unigramas bajo el tag <math>\n",
    "\n",
    "r = re.compile('((?=.*[0-9])(?=.*[%\\/\\(\\)\\^\\\\\\+\\-\\*\\=]))^.*')\n",
    "datos_curados['tokens_tutor'] = datos_curados.tokens_tutor.apply(lambda x: ['<math>' if r.match(w) else w for w in x])\n",
    "datos_curados['tokens_student'] = datos_curados.tokens_student.apply(lambda x: ['<math>' if r.match(w) else w for w in x])\n",
    "\n",
    "datos_curados['tokens_tutor'] = datos_curados.tokens_tutor.apply(lambda x: str(x)[1:-1])\n",
    "datos_curados['tokens_student'] = datos_curados.tokens_student.apply(lambda x: str(x)[1:-1])"
   ]
  },
  {
   "cell_type": "markdown",
   "metadata": {},
   "source": [
    "### stopwords"
   ]
  },
  {
   "cell_type": "markdown",
   "metadata": {},
   "source": [
    "procederemos a la eliminación de stopwords, es decir, palabras muy frecuentes y muy poco informativas que sirven para enriquecimiento del lenguaje pero que no aportan significado. Además, removeremos aquellos signos de puntuación, ya que si bien pueden aportar cierta información, en general pueden introducir ruido no deseado a los modelos."
   ]
  },
  {
   "cell_type": "code",
   "execution_count": 9,
   "metadata": {},
   "outputs": [],
   "source": [
    "datos_curados_nonstop = datos_curados.copy()"
   ]
  },
  {
   "cell_type": "code",
   "execution_count": 10,
   "metadata": {},
   "outputs": [],
   "source": [
    "from nltk.corpus import stopwords\n",
    "from string import punctuation"
   ]
  },
  {
   "cell_type": "code",
   "execution_count": 11,
   "metadata": {},
   "outputs": [],
   "source": [
    "english_stopwords = stopwords.words('english')\n",
    "non_words = list(punctuation)\n",
    "non_words.append('')\n",
    "def remove_stopwords(text):  \n",
    "    # remove punctuation\n",
    "    out = []\n",
    "    text = text.replace(\"\\'\",\"\").lower()#.replace(\"'\\'\",\"\").replace(\"\\'\",\"\")\n",
    "    text = text.split(\", \")\n",
    "    text = [c for c in text if c not in non_words]\n",
    "    for t in text:\n",
    "        if t not in english_stopwords:\n",
    "            out.append(t)\n",
    "    return out\n"
   ]
  },
  {
   "cell_type": "code",
   "execution_count": 12,
   "metadata": {},
   "outputs": [
    {
     "data": {
      "text/plain": [
       "['!',\n",
       " '\"',\n",
       " '#',\n",
       " '$',\n",
       " '%',\n",
       " '&',\n",
       " \"'\",\n",
       " '(',\n",
       " ')',\n",
       " '*',\n",
       " '+',\n",
       " ',',\n",
       " '-',\n",
       " '.',\n",
       " '/',\n",
       " ':',\n",
       " ';',\n",
       " '<',\n",
       " '=',\n",
       " '>',\n",
       " '?',\n",
       " '@',\n",
       " '[',\n",
       " '\\\\',\n",
       " ']',\n",
       " '^',\n",
       " '_',\n",
       " '`',\n",
       " '{',\n",
       " '|',\n",
       " '}',\n",
       " '~',\n",
       " '']"
      ]
     },
     "execution_count": 12,
     "metadata": {},
     "output_type": "execute_result"
    }
   ],
   "source": [
    "non_words"
   ]
  },
  {
   "cell_type": "code",
   "execution_count": 13,
   "metadata": {},
   "outputs": [],
   "source": [
    "datos_curados_nonstop['tokens_tutor'] = datos_curados_nonstop.tokens_tutor.apply(lambda x: remove_stopwords(x))\n",
    "datos_curados_nonstop['tokens_student'] = datos_curados_nonstop.tokens_student.apply(lambda x: remove_stopwords(x))"
   ]
  },
  {
   "cell_type": "markdown",
   "metadata": {
    "colab_type": "text",
    "id": "rlXvB-UdvnMW"
   },
   "source": [
    "#### **Primeras filas de la columna 'tokens_tutor', la cual contiene texto de interés para el análisis.**"
   ]
  },
  {
   "cell_type": "code",
   "execution_count": 14,
   "metadata": {
    "colab": {
     "base_uri": "https://localhost:8080/",
     "height": 117
    },
    "colab_type": "code",
    "id": "dGbLRxcuuZ23",
    "outputId": "5cd4d929-449a-4a78-daf4-7189a730727a",
    "scrolled": true
   },
   "outputs": [
    {
     "data": {
      "text/plain": [
       "['hey',\n",
       " 'robert',\n",
       " 'welcome',\n",
       " 'yup',\n",
       " 'looking',\n",
       " 'problem',\n",
       " '\"ve\"',\n",
       " 'reviewed',\n",
       " 'problem',\n",
       " 'finding',\n",
       " 'domain',\n",
       " 'square',\n",
       " 'root',\n",
       " 'function',\n",
       " 'let',\n",
       " '\"s\"',\n",
       " 'work',\n",
       " 'together',\n",
       " 'find',\n",
       " 'exactly',\n",
       " '\"re\"',\n",
       " 'stuck',\n",
       " 'tried',\n",
       " 'work',\n",
       " 'okay',\n",
       " 'actually',\n",
       " 'need',\n",
       " 'find',\n",
       " 'domain',\n",
       " 'square',\n",
       " 'root',\n",
       " 'function',\n",
       " 'need',\n",
       " 'simplify',\n",
       " 'however',\n",
       " 'simplify',\n",
       " 'would',\n",
       " '\"nt\"',\n",
       " 'wrong',\n",
       " 'please',\n",
       " 'show',\n",
       " 'check',\n",
       " 'okay',\n",
       " 'appreciate',\n",
       " 'work',\n",
       " '\"nt\"',\n",
       " 'seem',\n",
       " 'relevant',\n",
       " 'work',\n",
       " 'let',\n",
       " '\"s\"',\n",
       " 'discuss',\n",
       " 'problem',\n",
       " 'together',\n",
       " 'move',\n",
       " 'tell',\n",
       " 'mean',\n",
       " 'word',\n",
       " 'domain',\n",
       " 'meant',\n",
       " 'learned',\n",
       " 'domain',\n",
       " 'far',\n",
       " '\"s\"',\n",
       " 'good',\n",
       " 'x',\n",
       " 'values',\n",
       " 'defined',\n",
       " 'said',\n",
       " 'domain',\n",
       " 'function',\n",
       " 'let',\n",
       " 'explain',\n",
       " 'main',\n",
       " 'concept',\n",
       " 'use',\n",
       " 'find',\n",
       " 'domain',\n",
       " 'square',\n",
       " 'root',\n",
       " 'function',\n",
       " 'since',\n",
       " 'expression',\n",
       " 'written',\n",
       " 'inside',\n",
       " 'square',\n",
       " 'root',\n",
       " 'never',\n",
       " 'lesser',\n",
       " 'zero',\n",
       " 'set',\n",
       " 'expression',\n",
       " 'equal',\n",
       " 'greater',\n",
       " 'zero',\n",
       " 'solve',\n",
       " 'x.',\n",
       " 'let',\n",
       " 'show',\n",
       " 'example']"
      ]
     },
     "execution_count": 14,
     "metadata": {},
     "output_type": "execute_result"
    }
   ],
   "source": [
    "datos_curados_nonstop['tokens_tutor'].head()[0]"
   ]
  },
  {
   "cell_type": "code",
   "execution_count": 15,
   "metadata": {},
   "outputs": [
    {
     "data": {
      "text/plain": [
       "0    1\n",
       "1    0\n",
       "2    1\n",
       "3    1\n",
       "4    1\n",
       "Name: student_rating_cat, dtype: int64"
      ]
     },
     "execution_count": 15,
     "metadata": {},
     "output_type": "execute_result"
    }
   ],
   "source": [
    "datos_curados_nonstop['student_rating_cat'].head()"
   ]
  },
  {
   "cell_type": "code",
   "execution_count": 16,
   "metadata": {},
   "outputs": [],
   "source": [
    "datos_finales = datos_curados_nonstop[['tokens_tutor','student_rating_cat']]"
   ]
  },
  {
   "cell_type": "markdown",
   "metadata": {},
   "source": [
    "Removemos aquellos diálogos con una palabra o menos, ya que es muy dificil que los mismos aporten información suficiente para su clasificación, o para la elaboración de una etiqueta confiable."
   ]
  },
  {
   "cell_type": "code",
   "execution_count": 17,
   "metadata": {},
   "outputs": [],
   "source": [
    "from collections import Counter\n",
    "counts = Counter()\n",
    "for index, row in datos_finales.iterrows():\n",
    "    counts.update(row['tokens_tutor'])"
   ]
  },
  {
   "cell_type": "code",
   "execution_count": 18,
   "metadata": {},
   "outputs": [
    {
     "name": "stdout",
     "output_type": "stream",
     "text": [
      "num_words before: 33107\n",
      "num_words after: 17954\n"
     ]
    }
   ],
   "source": [
    "print(\"num_words before:\",len(counts.keys()))\n",
    "for word in list(counts):\n",
    "    if counts[word] < 2:\n",
    "        del counts[word]\n",
    "print(\"num_words after:\",len(counts.keys()))"
   ]
  },
  {
   "cell_type": "code",
   "execution_count": 19,
   "metadata": {},
   "outputs": [
    {
     "data": {
      "text/html": [
       "<div>\n",
       "<style scoped>\n",
       "    .dataframe tbody tr th:only-of-type {\n",
       "        vertical-align: middle;\n",
       "    }\n",
       "\n",
       "    .dataframe tbody tr th {\n",
       "        vertical-align: top;\n",
       "    }\n",
       "\n",
       "    .dataframe thead th {\n",
       "        text-align: right;\n",
       "    }\n",
       "</style>\n",
       "<table border=\"1\" class=\"dataframe\">\n",
       "  <thead>\n",
       "    <tr style=\"text-align: right;\">\n",
       "      <th></th>\n",
       "      <th>tokens_tutor</th>\n",
       "      <th>student_rating_cat</th>\n",
       "    </tr>\n",
       "  </thead>\n",
       "  <tbody>\n",
       "    <tr>\n",
       "      <th>0</th>\n",
       "      <td>[hey, robert, welcome, yup, looking, problem, ...</td>\n",
       "      <td>1</td>\n",
       "    </tr>\n",
       "    <tr>\n",
       "      <th>1</th>\n",
       "      <td>[hello, sophie, welcome, yup, please, give, mi...</td>\n",
       "      <td>0</td>\n",
       "    </tr>\n",
       "    <tr>\n",
       "      <th>2</th>\n",
       "      <td>[hello, illuminati, :), welcome, yup, personal...</td>\n",
       "      <td>1</td>\n",
       "    </tr>\n",
       "    <tr>\n",
       "      <th>3</th>\n",
       "      <td>[hi, domingo, welcome, yup, may, help, today, ...</td>\n",
       "      <td>1</td>\n",
       "    </tr>\n",
       "    <tr>\n",
       "      <th>4</th>\n",
       "      <td>[hello, jasmyn, :), welcome, yup, thank, shari...</td>\n",
       "      <td>1</td>\n",
       "    </tr>\n",
       "    <tr>\n",
       "      <th>...</th>\n",
       "      <td>...</td>\n",
       "      <td>...</td>\n",
       "    </tr>\n",
       "    <tr>\n",
       "      <th>17423</th>\n",
       "      <td>[hi, lena, welcome, yup, start, please, let, k...</td>\n",
       "      <td>1</td>\n",
       "    </tr>\n",
       "    <tr>\n",
       "      <th>17424</th>\n",
       "      <td>[hello, steven, :), welcome, yup, problem, cou...</td>\n",
       "      <td>0</td>\n",
       "    </tr>\n",
       "    <tr>\n",
       "      <th>17425</th>\n",
       "      <td>[hey, natalia, welcome, yup, much, progress, m...</td>\n",
       "      <td>1</td>\n",
       "    </tr>\n",
       "    <tr>\n",
       "      <th>17426</th>\n",
       "      <td>[hi, name, m., jesus, tutor, session, fine, pr...</td>\n",
       "      <td>1</td>\n",
       "    </tr>\n",
       "    <tr>\n",
       "      <th>17427</th>\n",
       "      <td>[hi, sotiria, welcome, yup, sorry, \"m\", review...</td>\n",
       "      <td>1</td>\n",
       "    </tr>\n",
       "  </tbody>\n",
       "</table>\n",
       "<p>16305 rows × 2 columns</p>\n",
       "</div>"
      ],
      "text/plain": [
       "                                            tokens_tutor  student_rating_cat\n",
       "0      [hey, robert, welcome, yup, looking, problem, ...                   1\n",
       "1      [hello, sophie, welcome, yup, please, give, mi...                   0\n",
       "2      [hello, illuminati, :), welcome, yup, personal...                   1\n",
       "3      [hi, domingo, welcome, yup, may, help, today, ...                   1\n",
       "4      [hello, jasmyn, :), welcome, yup, thank, shari...                   1\n",
       "...                                                  ...                 ...\n",
       "17423  [hi, lena, welcome, yup, start, please, let, k...                   1\n",
       "17424  [hello, steven, :), welcome, yup, problem, cou...                   0\n",
       "17425  [hey, natalia, welcome, yup, much, progress, m...                   1\n",
       "17426  [hi, name, m., jesus, tutor, session, fine, pr...                   1\n",
       "17427  [hi, sotiria, welcome, yup, sorry, \"m\", review...                   1\n",
       "\n",
       "[16305 rows x 2 columns]"
      ]
     },
     "execution_count": 19,
     "metadata": {},
     "output_type": "execute_result"
    }
   ],
   "source": [
    "datos_finales"
   ]
  },
  {
   "cell_type": "markdown",
   "metadata": {},
   "source": [
    "Vamos a truncar el número de palabras máximo de un diálogo en 250, redondeando en un valor cercano al tercer cuartil (75%) de las longitudes de los diálogos. Realizamos esto para normalizar las dimensiones de los diálogos, ya que existen unos pocos que tienen miles de palabras, y que podemos conisderar como outliers. Además, con propósito de generar una representación numérica de las palabras para alimentar el embedding, definimos una biyección entre las palabras únicas del dataset y un número entero identificatorio."
   ]
  },
  {
   "cell_type": "code",
   "execution_count": 20,
   "metadata": {},
   "outputs": [
    {
     "data": {
      "text/plain": [
       "244.0"
      ]
     },
     "execution_count": 20,
     "metadata": {},
     "output_type": "execute_result"
    }
   ],
   "source": [
    "datos_finales['tokens_tutor'].apply(len).quantile(q=.75)"
   ]
  },
  {
   "cell_type": "code",
   "execution_count": 21,
   "metadata": {},
   "outputs": [],
   "source": [
    "vocab2index = {\"\":0, \"UNK\":1}\n",
    "words = [\"\", \"UNK\"]\n",
    "for word in counts:\n",
    "    vocab2index[word] = len(words)\n",
    "    words.append(word)"
   ]
  },
  {
   "cell_type": "code",
   "execution_count": 22,
   "metadata": {},
   "outputs": [],
   "source": [
    "def encode_sentence(text, vocab2index, N=250):\n",
    "    encoded = np.zeros(N, dtype=int)\n",
    "    enc1 = np.array([vocab2index.get(word, vocab2index[\"UNK\"]) for word in text])\n",
    "    length = min(N, len(enc1))\n",
    "    encoded[:length] = enc1[:length]\n",
    "    return encoded, length"
   ]
  },
  {
   "cell_type": "code",
   "execution_count": 23,
   "metadata": {},
   "outputs": [
    {
     "data": {
      "text/html": [
       "<div>\n",
       "<style scoped>\n",
       "    .dataframe tbody tr th:only-of-type {\n",
       "        vertical-align: middle;\n",
       "    }\n",
       "\n",
       "    .dataframe tbody tr th {\n",
       "        vertical-align: top;\n",
       "    }\n",
       "\n",
       "    .dataframe thead th {\n",
       "        text-align: right;\n",
       "    }\n",
       "</style>\n",
       "<table border=\"1\" class=\"dataframe\">\n",
       "  <thead>\n",
       "    <tr style=\"text-align: right;\">\n",
       "      <th></th>\n",
       "      <th>tokens_tutor</th>\n",
       "      <th>student_rating_cat</th>\n",
       "      <th>encoded</th>\n",
       "    </tr>\n",
       "  </thead>\n",
       "  <tbody>\n",
       "    <tr>\n",
       "      <th>0</th>\n",
       "      <td>[hey, robert, welcome, yup, looking, problem, ...</td>\n",
       "      <td>1</td>\n",
       "      <td>[[2, 3, 4, 5, 6, 7, 8, 9, 7, 10, 11, 12, 13, 1...</td>\n",
       "    </tr>\n",
       "    <tr>\n",
       "      <th>1</th>\n",
       "      <td>[hello, sophie, welcome, yup, please, give, mi...</td>\n",
       "      <td>0</td>\n",
       "      <td>[[68, 69, 4, 5, 32, 70, 71, 72, 7, 73, 74, 75,...</td>\n",
       "    </tr>\n",
       "    <tr>\n",
       "      <th>2</th>\n",
       "      <td>[hello, illuminati, :), welcome, yup, personal...</td>\n",
       "      <td>1</td>\n",
       "      <td>[[68, 1, 77, 4, 5, 78, 79, 80, 81, 82, 83, 84,...</td>\n",
       "    </tr>\n",
       "    <tr>\n",
       "      <th>3</th>\n",
       "      <td>[hi, domingo, welcome, yup, may, help, today, ...</td>\n",
       "      <td>1</td>\n",
       "      <td>[[139, 140, 4, 5, 141, 80, 142, 143, 144, 85, ...</td>\n",
       "    </tr>\n",
       "    <tr>\n",
       "      <th>4</th>\n",
       "      <td>[hello, jasmyn, :), welcome, yup, thank, shari...</td>\n",
       "      <td>1</td>\n",
       "      <td>[[68, 314, 77, 4, 5, 304, 315, 87, 32, 70, 145...</td>\n",
       "    </tr>\n",
       "  </tbody>\n",
       "</table>\n",
       "</div>"
      ],
      "text/plain": [
       "                                        tokens_tutor  student_rating_cat  \\\n",
       "0  [hey, robert, welcome, yup, looking, problem, ...                   1   \n",
       "1  [hello, sophie, welcome, yup, please, give, mi...                   0   \n",
       "2  [hello, illuminati, :), welcome, yup, personal...                   1   \n",
       "3  [hi, domingo, welcome, yup, may, help, today, ...                   1   \n",
       "4  [hello, jasmyn, :), welcome, yup, thank, shari...                   1   \n",
       "\n",
       "                                             encoded  \n",
       "0  [[2, 3, 4, 5, 6, 7, 8, 9, 7, 10, 11, 12, 13, 1...  \n",
       "1  [[68, 69, 4, 5, 32, 70, 71, 72, 7, 73, 74, 75,...  \n",
       "2  [[68, 1, 77, 4, 5, 78, 79, 80, 81, 82, 83, 84,...  \n",
       "3  [[139, 140, 4, 5, 141, 80, 142, 143, 144, 85, ...  \n",
       "4  [[68, 314, 77, 4, 5, 304, 315, 87, 32, 70, 145...  "
      ]
     },
     "execution_count": 23,
     "metadata": {},
     "output_type": "execute_result"
    }
   ],
   "source": [
    "datos_finales['encoded'] = datos_finales['tokens_tutor'].apply(lambda x: np.array(encode_sentence(x,vocab2index )))\n",
    "datos_finales.head()"
   ]
  },
  {
   "cell_type": "code",
   "execution_count": 24,
   "metadata": {},
   "outputs": [],
   "source": [
    "datos_finales['weight'] = datos_finales.student_rating_cat.apply(lambda x: 0.18 if x == 1 else 0.82)"
   ]
  },
  {
   "cell_type": "markdown",
   "metadata": {},
   "source": [
    "Generamos los conjuntos de datos de entrenamiento y validación, con una proporción 80/20."
   ]
  },
  {
   "cell_type": "code",
   "execution_count": 25,
   "metadata": {},
   "outputs": [],
   "source": [
    "X = datos_finales[['encoded','weight']]\n",
    "y = list(datos_finales['student_rating_cat'])\n",
    "from sklearn.model_selection import train_test_split\n",
    "X_train, X_valid, y_train, y_valid = train_test_split(X, y, test_size=0.2)"
   ]
  },
  {
   "cell_type": "code",
   "execution_count": 26,
   "metadata": {},
   "outputs": [
    {
     "data": {
      "text/html": [
       "<div>\n",
       "<style scoped>\n",
       "    .dataframe tbody tr th:only-of-type {\n",
       "        vertical-align: middle;\n",
       "    }\n",
       "\n",
       "    .dataframe tbody tr th {\n",
       "        vertical-align: top;\n",
       "    }\n",
       "\n",
       "    .dataframe thead th {\n",
       "        text-align: right;\n",
       "    }\n",
       "</style>\n",
       "<table border=\"1\" class=\"dataframe\">\n",
       "  <thead>\n",
       "    <tr style=\"text-align: right;\">\n",
       "      <th></th>\n",
       "      <th>encoded</th>\n",
       "      <th>weight</th>\n",
       "    </tr>\n",
       "  </thead>\n",
       "  <tbody>\n",
       "    <tr>\n",
       "      <th>13826</th>\n",
       "      <td>[[139, 4452, 4, 5, 77, 7, 77, 32, 70, 71, 181,...</td>\n",
       "      <td>0.18</td>\n",
       "    </tr>\n",
       "    <tr>\n",
       "      <th>7997</th>\n",
       "      <td>[[139, 11764, 1401, 5096, 5323, 883, 79, 151, ...</td>\n",
       "      <td>0.82</td>\n",
       "    </tr>\n",
       "    <tr>\n",
       "      <th>13344</th>\n",
       "      <td>[[68, 6253, 4, 5, 77, 877, 7, 469, 137, 116, 6...</td>\n",
       "      <td>0.18</td>\n",
       "    </tr>\n",
       "    <tr>\n",
       "      <th>8664</th>\n",
       "      <td>[[68, 4872, 4, 5, 77, 8, 9, 7, 40, 8, 23, 75, ...</td>\n",
       "      <td>0.18</td>\n",
       "    </tr>\n",
       "    <tr>\n",
       "      <th>4277</th>\n",
       "      <td>[[68, 9072, 77, 4, 5, 8, 1391, 7, 15, 16, 17, ...</td>\n",
       "      <td>0.82</td>\n",
       "    </tr>\n",
       "    <tr>\n",
       "      <th>...</th>\n",
       "      <td>...</td>\n",
       "      <td>...</td>\n",
       "    </tr>\n",
       "    <tr>\n",
       "      <th>12409</th>\n",
       "      <td>[[139, 7232, 4, 5, 1401, 5096, 5142, 883, 79, ...</td>\n",
       "      <td>0.82</td>\n",
       "    </tr>\n",
       "    <tr>\n",
       "      <th>449</th>\n",
       "      <td>[[68, 3468, 77, 4, 5, 32, 70, 145, 181, 7, 181...</td>\n",
       "      <td>0.18</td>\n",
       "    </tr>\n",
       "    <tr>\n",
       "      <th>9420</th>\n",
       "      <td>[[68, 4488, 4, 5, 77, 1401, 4880, 11381, 83, 7...</td>\n",
       "      <td>0.18</td>\n",
       "    </tr>\n",
       "    <tr>\n",
       "      <th>6484</th>\n",
       "      <td>[[68, 1268, 77, 4, 5, 8, 9, 7, 77, 524, 19, 33...</td>\n",
       "      <td>0.18</td>\n",
       "    </tr>\n",
       "    <tr>\n",
       "      <th>4122</th>\n",
       "      <td>[[68, 8886, 316, 96, 26, 929, 128, 2167, 1427,...</td>\n",
       "      <td>0.18</td>\n",
       "    </tr>\n",
       "  </tbody>\n",
       "</table>\n",
       "<p>13044 rows × 2 columns</p>\n",
       "</div>"
      ],
      "text/plain": [
       "                                                 encoded  weight\n",
       "13826  [[139, 4452, 4, 5, 77, 7, 77, 32, 70, 71, 181,...    0.18\n",
       "7997   [[139, 11764, 1401, 5096, 5323, 883, 79, 151, ...    0.82\n",
       "13344  [[68, 6253, 4, 5, 77, 877, 7, 469, 137, 116, 6...    0.18\n",
       "8664   [[68, 4872, 4, 5, 77, 8, 9, 7, 40, 8, 23, 75, ...    0.18\n",
       "4277   [[68, 9072, 77, 4, 5, 8, 1391, 7, 15, 16, 17, ...    0.82\n",
       "...                                                  ...     ...\n",
       "12409  [[139, 7232, 4, 5, 1401, 5096, 5142, 883, 79, ...    0.82\n",
       "449    [[68, 3468, 77, 4, 5, 32, 70, 145, 181, 7, 181...    0.18\n",
       "9420   [[68, 4488, 4, 5, 77, 1401, 4880, 11381, 83, 7...    0.18\n",
       "6484   [[68, 1268, 77, 4, 5, 8, 9, 7, 77, 524, 19, 33...    0.18\n",
       "4122   [[68, 8886, 316, 96, 26, 929, 128, 2167, 1427,...    0.18\n",
       "\n",
       "[13044 rows x 2 columns]"
      ]
     },
     "execution_count": 26,
     "metadata": {},
     "output_type": "execute_result"
    }
   ],
   "source": [
    "X_train"
   ]
  },
  {
   "cell_type": "markdown",
   "metadata": {},
   "source": [
    "Importamos las librerías necesarias para el entrenamiento de las redes."
   ]
  },
  {
   "cell_type": "code",
   "execution_count": 27,
   "metadata": {},
   "outputs": [],
   "source": [
    "import torch\n",
    "import torch.nn as nn\n",
    "from torch.utils.data import Dataset, DataLoader\n",
    "import torch.nn.functional as F\n",
    "from torch.nn.utils.rnn import pack_padded_sequence, pad_packed_sequence\n",
    "from sklearn.metrics import mean_squared_error, f1_score"
   ]
  },
  {
   "cell_type": "markdown",
   "metadata": {},
   "source": [
    "Definimos la forma final del dataset."
   ]
  },
  {
   "cell_type": "code",
   "execution_count": 28,
   "metadata": {},
   "outputs": [],
   "source": [
    "class ScoringDataset(Dataset):\n",
    "    def __init__(self, X, Y):\n",
    "        self.X = X\n",
    "        self.y = Y\n",
    "        \n",
    "    def __len__(self):\n",
    "        return len(self.y)\n",
    "    \n",
    "    def __getitem__(self, idx):\n",
    "        return torch.from_numpy(list(self.X['encoded'])[idx][0].astype(np.int32)), self.y[idx], list(self.X['encoded'])[idx][1]"
   ]
  },
  {
   "cell_type": "code",
   "execution_count": 29,
   "metadata": {},
   "outputs": [],
   "source": [
    "train_ds = ScoringDataset(X_train, y_train)\n",
    "valid_ds = ScoringDataset(X_valid, y_valid)"
   ]
  },
  {
   "cell_type": "markdown",
   "metadata": {},
   "source": [
    "Definimos las funciones de entrenamiento y métricas de validación de las redes, utilizando una función de costo de entropía cruzada binaria (la función de costo mas común a la hora de clasificación binaria). La versión particular que utilizamos de esta función de costo, tiene incluida la normalización de la salida del modelo, por lo cual no hay que agregar una función de decisión a la salida de los mismos. Además, utilizamos un argumento en la función de costo que nos permite agregar un peso a cada clase, con lo cual podemos abordar el desbalance de clases que presenta nuestro dataset en particular."
   ]
  },
  {
   "cell_type": "code",
   "execution_count": 33,
   "metadata": {},
   "outputs": [],
   "source": [
    "losss = nn.BCEWithLogitsLoss().cuda()\n",
    "sampler = torch.utils.data.sampler.WeightedRandomSampler(list(X_train['weight']),len(list(X_train['weight'])))\n",
    "def train_model(model, epochs=10, lr=0.001):\n",
    "    parameters = filter(lambda p: p.requires_grad, model.parameters())\n",
    "    optimizer = torch.optim.Adam(parameters, lr=lr, weight_decay=1e-5)\n",
    "    for i in range(epochs):\n",
    "        model.train().cuda()\n",
    "        sum_loss = 0.0\n",
    "        total = 0\n",
    "        for x, y, l in train_dl:\n",
    "            x = x.cuda().long()\n",
    "            y = F.one_hot(y.cuda(),2)\n",
    "            y_pred = model(x, l)\n",
    "            y = y.type_as(y_pred)\n",
    "            optimizer.zero_grad()\n",
    "            loss = losss(y_pred, y)\n",
    "            loss.backward()\n",
    "            optimizer.step()\n",
    "            sum_loss += loss.item()*y.shape[0]\n",
    "            total += y.shape[0]\n",
    "        val_loss, val_acc, val_rmse, ff1, ff1macro, ff1weight = validation_metrics(model, val_dl)\n",
    "        \n",
    "        print(\"train loss %.3f, val loss %.3f, val accuracy %.3f, val rmse %.3f, val f1 %.3f, val f1macro %.3f, val f1weight %.3f\" % (sum_loss/total, val_loss, val_acc, val_rmse, ff1,ff1macro, ff1weight))\n",
    "\n",
    "def validation_metrics (model, valid_dl):\n",
    "    model.eval().cpu()\n",
    "    correct = 0\n",
    "    total = 0\n",
    "    sum_loss = 0.0\n",
    "    sum_rmse = 0.0\n",
    "    sum_f1 = 0.0\n",
    "    predy=[]\n",
    "    truey=[]\n",
    "    for x, y, l in valid_dl:\n",
    "        x = x.long()\n",
    "        y = y.long()\n",
    "        y_hat = model(x, l)\n",
    "        loss = F.cross_entropy(y_hat, y)\n",
    "        pred = torch.max(y_hat, 1)[1]\n",
    "        correct += (pred == y).float().sum()\n",
    "        total += y.shape[0]\n",
    "        sum_loss += loss.item()*y.shape[0]\n",
    "        sum_rmse += np.sqrt(mean_squared_error(pred, y.unsqueeze(-1)))*y.shape[0]\n",
    "\n",
    "    for i in range(len(valid_ds)):\n",
    "        a,b,c = valid_ds[i]\n",
    "        predy.append(model_fixed(a.long().unsqueeze(0),c).detach().numpy().argmax())\n",
    "        truey.append(b)\n",
    "    ff1 = f1_score(truey,predy)\n",
    "    ff1macro = f1_score(truey,predy, average='macro')\n",
    "    ff1weight = f1_score(truey,predy, average='weighted')\n",
    "    return sum_loss/total, correct/total, sum_rmse/total, ff1, ff1macro, ff1weight"
   ]
  },
  {
   "cell_type": "markdown",
   "metadata": {},
   "source": [
    "Definimos los dataloaders, que son herramientas de torch que nos permiten crear un generador a partir del dataset, el cual agrupa datos en función del tamaño de batch, y nos permite randomizar la entrada."
   ]
  },
  {
   "cell_type": "code",
   "execution_count": 34,
   "metadata": {},
   "outputs": [],
   "source": [
    "batch_size = 2500\n",
    "vocab_size = len(words)\n",
    "train_dl = DataLoader(train_ds, batch_size=batch_size, sampler=sampler)\n",
    "val_dl = DataLoader(valid_ds, batch_size=batch_size)"
   ]
  },
  {
   "cell_type": "markdown",
   "metadata": {},
   "source": [
    "Definimos la arquitectura del modelo LSTM. El mismo consta, además del embedding inicial, de una capa LSTM, y una capa lineal. Utilizamos además dropout como método de regularización, el cual consiste en apagar ciertas neuronas aleatorias durante el entrenamiento, lo cual permite al modelo generalizar mejor y evitar el sobreajuste."
   ]
  },
  {
   "cell_type": "code",
   "execution_count": 49,
   "metadata": {},
   "outputs": [],
   "source": [
    "class LSTM_fixed_len(torch.nn.Module) :\n",
    "    def __init__(self, vocab_size, embedding_dim, hidden_dim) :\n",
    "        super().__init__()\n",
    "        self.embeddings = nn.Embedding(vocab_size, embedding_dim, padding_idx=0)\n",
    "        self.lstm = nn.LSTM(embedding_dim, hidden_dim, batch_first=True)\n",
    "        self.linear = nn.Linear(hidden_dim, 2)\n",
    "        self.dropout = nn.Dropout(0.2)\n",
    "        \n",
    "    def forward(self, x, l):\n",
    "        x = self.embeddings(x)\n",
    "        x = self.dropout(x)\n",
    "        lstm_out, (ht, ct) = self.lstm(x)\n",
    "        return self.linear(ht[-1])"
   ]
  },
  {
   "cell_type": "markdown",
   "metadata": {},
   "source": [
    "Instanciamos el modelo, con el tamaño de nuestro vocabulario para entrenar el embedding, y con dimensión del embedding igual a 50. Además, definimos la dimensión de neuronas ocultas en la capa LSTM como 50."
   ]
  },
  {
   "cell_type": "code",
   "execution_count": 50,
   "metadata": {
    "scrolled": true
   },
   "outputs": [],
   "source": [
    "model_fixed =  LSTM_fixed_len(vocab_size, 50, 50)"
   ]
  },
  {
   "cell_type": "markdown",
   "metadata": {},
   "source": [
    "Entrenamos el modelo, con learning rate de 0.01 y 60 épocas."
   ]
  },
  {
   "cell_type": "code",
   "execution_count": 54,
   "metadata": {},
   "outputs": [
    {
     "name": "stdout",
     "output_type": "stream",
     "text": [
      "train loss 0.686, val loss 0.784, val accuracy 0.379, val rmse 0.788, val f1 0.412, val f1macro 0.377, val f1weight 0.400\n",
      "train loss 0.735, val loss 0.727, val accuracy 0.394, val rmse 0.778, val f1 0.436, val f1macro 0.391, val f1weight 0.420\n",
      "train loss 0.665, val loss 0.792, val accuracy 0.378, val rmse 0.788, val f1 0.411, val f1macro 0.376, val f1weight 0.399\n",
      "train loss 0.668, val loss 0.748, val accuracy 0.380, val rmse 0.787, val f1 0.414, val f1macro 0.378, val f1weight 0.401\n",
      "train loss 0.664, val loss 0.901, val accuracy 0.383, val rmse 0.785, val f1 0.419, val f1macro 0.381, val f1weight 0.405\n",
      "train loss 0.660, val loss 0.718, val accuracy 0.396, val rmse 0.777, val f1 0.438, val f1macro 0.392, val f1weight 0.421\n",
      "train loss 0.660, val loss 0.734, val accuracy 0.456, val rmse 0.738, val f1 0.529, val f1macro 0.442, val f1weight 0.498\n",
      "train loss 0.675, val loss 0.518, val accuracy 0.810, val rmse 0.436, val f1 0.894, val f1macro 0.505, val f1weight 0.754\n",
      "train loss 0.658, val loss 0.930, val accuracy 0.357, val rmse 0.802, val f1 0.376, val f1macro 0.357, val f1weight 0.369\n",
      "train loss 0.654, val loss 0.770, val accuracy 0.356, val rmse 0.802, val f1 0.375, val f1macro 0.356, val f1weight 0.368\n",
      "train loss 0.648, val loss 0.750, val accuracy 0.359, val rmse 0.801, val f1 0.381, val f1macro 0.358, val f1weight 0.373\n",
      "train loss 0.643, val loss 0.806, val accuracy 0.363, val rmse 0.798, val f1 0.388, val f1macro 0.362, val f1weight 0.379\n",
      "train loss 0.635, val loss 0.843, val accuracy 0.360, val rmse 0.800, val f1 0.382, val f1macro 0.359, val f1weight 0.374\n",
      "train loss 0.632, val loss 0.810, val accuracy 0.358, val rmse 0.801, val f1 0.378, val f1macro 0.357, val f1weight 0.370\n",
      "train loss 0.622, val loss 0.815, val accuracy 0.361, val rmse 0.799, val f1 0.384, val f1macro 0.360, val f1weight 0.375\n",
      "train loss 0.617, val loss 0.849, val accuracy 0.365, val rmse 0.797, val f1 0.388, val f1macro 0.364, val f1weight 0.380\n",
      "train loss 0.609, val loss 0.847, val accuracy 0.367, val rmse 0.795, val f1 0.393, val f1macro 0.366, val f1weight 0.383\n",
      "train loss 0.605, val loss 0.806, val accuracy 0.370, val rmse 0.794, val f1 0.396, val f1macro 0.369, val f1weight 0.386\n",
      "train loss 0.601, val loss 0.615, val accuracy 0.733, val rmse 0.516, val f1 0.828, val f1macro 0.619, val f1weight 0.752\n",
      "train loss 0.624, val loss 1.013, val accuracy 0.357, val rmse 0.802, val f1 0.375, val f1macro 0.356, val f1weight 0.368\n"
     ]
    }
   ],
   "source": [
    "train_model(model_fixed, epochs=20, lr=0.01)"
   ]
  },
  {
   "cell_type": "code",
   "execution_count": 55,
   "metadata": {},
   "outputs": [
    {
     "name": "stdout",
     "output_type": "stream",
     "text": [
      "train loss 0.601, val loss 0.616, val accuracy 0.727, val rmse 0.523, val f1 0.824, val f1macro 0.606, val f1weight 0.745\n",
      "train loss 0.600, val loss 1.041, val accuracy 0.365, val rmse 0.797, val f1 0.388, val f1macro 0.364, val f1weight 0.379\n",
      "train loss 0.578, val loss 0.832, val accuracy 0.736, val rmse 0.514, val f1 0.832, val f1macro 0.608, val f1weight 0.751\n",
      "train loss 0.559, val loss 0.743, val accuracy 0.744, val rmse 0.506, val f1 0.839, val f1macro 0.608, val f1weight 0.756\n",
      "train loss 0.578, val loss 0.820, val accuracy 0.390, val rmse 0.781, val f1 0.429, val f1macro 0.388, val f1weight 0.414\n",
      "train loss 0.561, val loss 1.019, val accuracy 0.396, val rmse 0.777, val f1 0.436, val f1macro 0.393, val f1weight 0.420\n",
      "train loss 0.561, val loss 0.892, val accuracy 0.381, val rmse 0.787, val f1 0.414, val f1macro 0.379, val f1weight 0.401\n",
      "train loss 0.556, val loss 0.769, val accuracy 0.767, val rmse 0.483, val f1 0.860, val f1macro 0.584, val f1weight 0.761\n",
      "train loss 0.553, val loss 0.833, val accuracy 0.415, val rmse 0.765, val f1 0.466, val f1macro 0.409, val f1weight 0.445\n",
      "train loss 0.575, val loss 1.002, val accuracy 0.436, val rmse 0.751, val f1 0.498, val f1macro 0.427, val f1weight 0.472\n",
      "train loss 0.545, val loss 0.993, val accuracy 0.443, val rmse 0.746, val f1 0.509, val f1macro 0.433, val f1weight 0.482\n",
      "train loss 0.532, val loss 0.850, val accuracy 0.745, val rmse 0.504, val f1 0.840, val f1macro 0.608, val f1weight 0.757\n",
      "train loss 0.513, val loss 0.763, val accuracy 0.659, val rmse 0.584, val f1 0.756, val f1macro 0.596, val f1weight 0.698\n",
      "train loss 0.480, val loss 1.044, val accuracy 0.529, val rmse 0.686, val f1 0.613, val f1macro 0.505, val f1weight 0.574\n",
      "train loss 0.472, val loss 0.958, val accuracy 0.638, val rmse 0.602, val f1 0.730, val f1macro 0.590, val f1weight 0.680\n",
      "train loss 0.446, val loss 1.132, val accuracy 0.501, val rmse 0.706, val f1 0.578, val f1macro 0.484, val f1weight 0.544\n",
      "train loss 0.454, val loss 0.819, val accuracy 0.662, val rmse 0.581, val f1 0.755, val f1macro 0.606, val f1weight 0.701\n",
      "train loss 0.420, val loss 0.882, val accuracy 0.715, val rmse 0.534, val f1 0.804, val f1macro 0.642, val f1weight 0.746\n",
      "train loss 0.410, val loss 0.930, val accuracy 0.728, val rmse 0.522, val f1 0.815, val f1macro 0.649, val f1weight 0.755\n",
      "train loss 0.394, val loss 0.913, val accuracy 0.715, val rmse 0.534, val f1 0.803, val f1macro 0.644, val f1weight 0.746\n"
     ]
    }
   ],
   "source": [
    "train_model(model_fixed, epochs=20, lr=0.01)"
   ]
  },
  {
   "cell_type": "code",
   "execution_count": 56,
   "metadata": {
    "scrolled": false
   },
   "outputs": [
    {
     "name": "stdout",
     "output_type": "stream",
     "text": [
      "train loss 0.461, val loss 0.979, val accuracy 0.622, val rmse 0.615, val f1 0.712, val f1macro 0.580, val f1weight 0.665\n",
      "train loss 0.425, val loss 0.746, val accuracy 0.722, val rmse 0.528, val f1 0.809, val f1macro 0.646, val f1weight 0.751\n",
      "train loss 0.404, val loss 0.986, val accuracy 0.691, val rmse 0.556, val f1 0.781, val f1macro 0.628, val f1weight 0.726\n",
      "train loss 0.381, val loss 1.010, val accuracy 0.701, val rmse 0.547, val f1 0.791, val f1macro 0.634, val f1weight 0.734\n",
      "train loss 0.365, val loss 0.978, val accuracy 0.711, val rmse 0.538, val f1 0.800, val f1macro 0.638, val f1weight 0.742\n",
      "train loss 0.351, val loss 1.007, val accuracy 0.705, val rmse 0.543, val f1 0.795, val f1macro 0.634, val f1weight 0.737\n",
      "train loss 0.341, val loss 1.026, val accuracy 0.718, val rmse 0.531, val f1 0.807, val f1macro 0.643, val f1weight 0.748\n",
      "train loss 0.339, val loss 0.973, val accuracy 0.722, val rmse 0.527, val f1 0.810, val f1macro 0.645, val f1weight 0.751\n",
      "train loss 0.320, val loss 1.097, val accuracy 0.731, val rmse 0.518, val f1 0.819, val f1macro 0.649, val f1weight 0.758\n",
      "train loss 0.323, val loss 1.012, val accuracy 0.741, val rmse 0.509, val f1 0.827, val f1macro 0.656, val f1weight 0.766\n",
      "train loss 0.313, val loss 1.053, val accuracy 0.725, val rmse 0.525, val f1 0.813, val f1macro 0.647, val f1weight 0.753\n",
      "train loss 0.309, val loss 1.101, val accuracy 0.730, val rmse 0.519, val f1 0.818, val f1macro 0.647, val f1weight 0.757\n",
      "train loss 0.299, val loss 1.052, val accuracy 0.746, val rmse 0.504, val f1 0.831, val f1macro 0.659, val f1weight 0.769\n",
      "train loss 0.282, val loss 1.168, val accuracy 0.735, val rmse 0.515, val f1 0.822, val f1macro 0.652, val f1weight 0.761\n",
      "train loss 0.289, val loss 1.148, val accuracy 0.731, val rmse 0.518, val f1 0.818, val f1macro 0.651, val f1weight 0.758\n",
      "train loss 0.269, val loss 1.137, val accuracy 0.760, val rmse 0.490, val f1 0.844, val f1macro 0.660, val f1weight 0.778\n",
      "train loss 0.287, val loss 1.186, val accuracy 0.724, val rmse 0.525, val f1 0.814, val f1macro 0.641, val f1weight 0.752\n",
      "train loss 0.275, val loss 1.109, val accuracy 0.740, val rmse 0.510, val f1 0.827, val f1macro 0.653, val f1weight 0.764\n",
      "train loss 0.262, val loss 1.272, val accuracy 0.729, val rmse 0.521, val f1 0.817, val f1macro 0.648, val f1weight 0.756\n",
      "train loss 0.267, val loss 1.166, val accuracy 0.750, val rmse 0.500, val f1 0.835, val f1macro 0.659, val f1weight 0.772\n"
     ]
    }
   ],
   "source": [
    "train_model(model_fixed, epochs=20, lr=0.01)"
   ]
  },
  {
   "cell_type": "markdown",
   "metadata": {},
   "source": [
    "Definimos la arquitectura del modelo CNN. El mismo consta, además del embedding inicial, de cuatro capas convolucionales paralelas, con distinto tamaño de kernel (lo cual se puede comparar con distintas longitudes de n-gramas), cuyo resultado luego pasa por un max pooling, y luego se concatenan los resultados aplanados en un vector unidimensional, y este se utiliza como entrada en una capa lineal. Utilizamos además dropout como método de regularización, el cual consiste en apagar ciertas neuronas aleatorias durante el entrenamiento, lo cual permite al modelo generalizar mejor y evitar el sobreajuste."
   ]
  },
  {
   "cell_type": "code",
   "execution_count": 30,
   "metadata": {},
   "outputs": [],
   "source": [
    "import math"
   ]
  },
  {
   "cell_type": "code",
   "execution_count": 41,
   "metadata": {},
   "outputs": [],
   "source": [
    "import torch.nn.functional as F\n",
    "\n",
    "class TextClassifier(nn.ModuleList):\n",
    "\n",
    "    def __init__(self):\n",
    "        super(TextClassifier, self).__init__()\n",
    "        # Parameters regarding text preprocessing\n",
    "        self.seq_len = 250\n",
    "        self.num_words = vocab_size\n",
    "        self.embedding_size = 50\n",
    "        \n",
    "        # Dropout definition\n",
    "        self.dropout = nn.Dropout(0.25)\n",
    "        \n",
    "        # CNN parameters definition\n",
    "        # Kernel sizes\n",
    "        self.kernel_1 = 2\n",
    "        self.kernel_2 = 3\n",
    "        self.kernel_3 = 4\n",
    "        self.kernel_4 = 5\n",
    "        \n",
    "        # Output size for each convolution\n",
    "        self.out_size = 8\n",
    "        # Number of strides for each convolution\n",
    "        self.stride = 1\n",
    "        \n",
    "        # Embedding layer definition\n",
    "        self.embedding = nn.Embedding(self.num_words, self.embedding_size, padding_idx=0)\n",
    "        \n",
    "        # Convolution layers definition\n",
    "        self.conv_1 = nn.Conv1d(self.embedding_size, self.out_size, self.kernel_1, self.stride)\n",
    "        self.conv_2 = nn.Conv1d(self.embedding_size, self.out_size, self.kernel_2, self.stride)\n",
    "        self.conv_3 = nn.Conv1d(self.embedding_size, self.out_size, self.kernel_3, self.stride)\n",
    "        self.conv_4 = nn.Conv1d(self.embedding_size, self.out_size, self.kernel_4, self.stride)\n",
    "        \n",
    "        # Max pooling layers definition\n",
    "        self.pool_1 = nn.MaxPool1d(self.kernel_1, self.stride)\n",
    "        self.pool_2 = nn.MaxPool1d(self.kernel_2, self.stride)\n",
    "        self.pool_3 = nn.MaxPool1d(self.kernel_3, self.stride)\n",
    "        self.pool_4 = nn.MaxPool1d(self.kernel_4, self.stride)\n",
    "        \n",
    "        # Fully connected layer definition\n",
    "        self.fc = nn.Linear(980*self.out_size, 2)\n",
    "\n",
    "        \n",
    "        \n",
    "    def forward(self, x, l):\n",
    "\n",
    "        # Sequence of tokes is filterd through an embedding layer\n",
    "        x = self.embedding(x)\n",
    "        x = x.permute(0,2,1)\n",
    "        # Convolution layer 1 is applied\n",
    "        x1 = self.conv_1(x)\n",
    "        x1 = torch.relu(x1)\n",
    "        x1 = self.pool_1(x1)\n",
    "        # Convolution layer 2 is applied\n",
    "        x2 = self.conv_2(x)\n",
    "        x2 = torch.relu((x2))\n",
    "        x2 = self.pool_2(x2)\n",
    "    \n",
    "        # Convolution layer 3 is applied\n",
    "        x3 = self.conv_3(x)\n",
    "        x3 = torch.relu(x3)\n",
    "        x3 = self.pool_3(x3)\n",
    "        \n",
    "        # Convolution layer 4 is applied\n",
    "        x4 = self.conv_4(x)\n",
    "        x4 = torch.relu(x4)\n",
    "        x4 = self.pool_4(x4)\n",
    "        \n",
    "        # The output of each convolutional layer is concatenated into a unique vector\n",
    "        union = torch.cat((x1, x2, x3, x4), 2)\n",
    "        union = union.reshape(union.size(0), -1)\n",
    "\n",
    "        # The \"flattened\" vector is passed through a fully connected layer\n",
    "        out = self.fc(union)\n",
    "        # Dropout is applied        \n",
    "        out = self.dropout(out)\n",
    "        # Activation function is applied\n",
    "        \n",
    "        return out.squeeze()"
   ]
  },
  {
   "cell_type": "code",
   "execution_count": 42,
   "metadata": {},
   "outputs": [],
   "source": [
    "losss = nn.BCEWithLogitsLoss().cuda()\n",
    "sampler = torch.utils.data.sampler.WeightedRandomSampler(list(X_train['weight']),len(list(X_train['weight'])))\n",
    "model = TextClassifier()\n",
    "def train_model(model, epochs=10, lr=0.001):\n",
    "    parameters = filter(lambda p: p.requires_grad, model.parameters())\n",
    "    optimizer = torch.optim.Adam(parameters, lr=lr, weight_decay=1e-5)\n",
    "    for i in range(epochs):\n",
    "        model.train().cuda()\n",
    "        sum_loss = 0.0\n",
    "        total = 0\n",
    "        for x, y, l in train_dl:\n",
    "            x = x.cuda().long()\n",
    "            y = F.one_hot(y.cuda(),2)\n",
    "            y_pred = model(x, l)\n",
    "            y = y.type_as(y_pred)\n",
    "            optimizer.zero_grad()\n",
    "            loss = losss(y_pred, y)\n",
    "            loss.backward()\n",
    "            optimizer.step()\n",
    "            sum_loss += loss.item()*y.shape[0]\n",
    "            total += y.shape[0]\n",
    "        val_loss, val_acc, val_rmse, ff1, ff1macro, ff1weight = validation_metrics(model, val_dl)\n",
    "        \n",
    "        print(\"train loss %.3f, val loss %.3f, val accuracy %.3f, val rmse %.3f, val f1 %.3f, val f1macro %.3f, val f1weight %.3f\" % (sum_loss/total, val_loss, val_acc, val_rmse, ff1,ff1macro, ff1weight))\n",
    "def validation_metrics (model, valid_dl):\n",
    "    model.eval().cpu()\n",
    "    correct = 0\n",
    "    total = 0\n",
    "    sum_loss = 0.0\n",
    "    sum_rmse = 0.0\n",
    "    sum_f1 = 0.0\n",
    "    predy=[]\n",
    "    truey=[]\n",
    "    for x, y, l in valid_dl:\n",
    "        x = x.long()\n",
    "        y = y.long()\n",
    "        y_hat = model(x, l)\n",
    "        loss = F.cross_entropy(y_hat, y)\n",
    "        pred = torch.max(y_hat, 1)[1]\n",
    "        correct += (pred == y).float().sum()\n",
    "        total += y.shape[0]\n",
    "        sum_loss += loss.item()*y.shape[0]\n",
    "        sum_rmse += np.sqrt(mean_squared_error(pred, y.unsqueeze(-1)))*y.shape[0]\n",
    "\n",
    "    for i in range(len(valid_ds)):\n",
    "        a,b,c = valid_ds[i]\n",
    "        predy.append(model(a.long().unsqueeze(0),c).detach().numpy().argmax())\n",
    "        truey.append(b)\n",
    "    ff1 = f1_score(truey,predy)\n",
    "    ff1macro = f1_score(truey,predy, average='macro')\n",
    "    ff1weight = f1_score(truey,predy, average='weighted')\n",
    "    return sum_loss/total, correct/total, sum_rmse/total, ff1, ff1macro, ff1weight"
   ]
  },
  {
   "cell_type": "code",
   "execution_count": 43,
   "metadata": {},
   "outputs": [
    {
     "name": "stdout",
     "output_type": "stream",
     "text": [
      "train loss 2.427, val loss 1.230, val accuracy 0.197, val rmse 0.896, val f1 0.048, val f1macro 0.177, val f1weight 0.094\n",
      "train loss 0.951, val loss 0.659, val accuracy 0.556, val rmse 0.667, val f1 0.662, val f1macro 0.507, val f1weight 0.606\n",
      "train loss 0.748, val loss 0.630, val accuracy 0.590, val rmse 0.641, val f1 0.697, val f1macro 0.531, val f1weight 0.637\n",
      "train loss 0.688, val loss 0.681, val accuracy 0.541, val rmse 0.677, val f1 0.642, val f1macro 0.502, val f1weight 0.591\n",
      "train loss 0.654, val loss 0.730, val accuracy 0.530, val rmse 0.686, val f1 0.626, val f1macro 0.496, val f1weight 0.579\n",
      "train loss 0.626, val loss 0.663, val accuracy 0.641, val rmse 0.599, val f1 0.742, val f1macro 0.576, val f1weight 0.682\n",
      "train loss 0.611, val loss 0.710, val accuracy 0.601, val rmse 0.632, val f1 0.699, val f1macro 0.554, val f1weight 0.647\n",
      "train loss 0.583, val loss 0.616, val accuracy 0.672, val rmse 0.572, val f1 0.770, val f1macro 0.602, val f1weight 0.709\n",
      "train loss 0.563, val loss 0.697, val accuracy 0.644, val rmse 0.597, val f1 0.740, val f1macro 0.586, val f1weight 0.685\n",
      "train loss 0.536, val loss 0.715, val accuracy 0.646, val rmse 0.595, val f1 0.742, val f1macro 0.590, val f1weight 0.687\n",
      "train loss 0.511, val loss 0.667, val accuracy 0.674, val rmse 0.571, val f1 0.769, val f1macro 0.608, val f1weight 0.711\n",
      "train loss 0.483, val loss 0.711, val accuracy 0.672, val rmse 0.572, val f1 0.768, val f1macro 0.607, val f1weight 0.710\n",
      "train loss 0.458, val loss 0.690, val accuracy 0.710, val rmse 0.538, val f1 0.801, val f1macro 0.634, val f1weight 0.741\n",
      "train loss 0.431, val loss 0.673, val accuracy 0.728, val rmse 0.522, val f1 0.817, val f1macro 0.643, val f1weight 0.755\n",
      "train loss 0.401, val loss 0.748, val accuracy 0.712, val rmse 0.536, val f1 0.804, val f1macro 0.633, val f1weight 0.742\n",
      "train loss 0.377, val loss 0.790, val accuracy 0.719, val rmse 0.530, val f1 0.810, val f1macro 0.638, val f1weight 0.748\n",
      "train loss 0.357, val loss 0.759, val accuracy 0.759, val rmse 0.491, val f1 0.843, val f1macro 0.661, val f1weight 0.778\n",
      "train loss 0.329, val loss 0.828, val accuracy 0.763, val rmse 0.487, val f1 0.846, val f1macro 0.664, val f1weight 0.781\n",
      "train loss 0.309, val loss 0.820, val accuracy 0.769, val rmse 0.481, val f1 0.853, val f1macro 0.659, val f1weight 0.783\n",
      "train loss 0.298, val loss 0.921, val accuracy 0.767, val rmse 0.483, val f1 0.850, val f1macro 0.665, val f1weight 0.783\n"
     ]
    }
   ],
   "source": [
    "train_model(model, epochs=20, lr=0.01)"
   ]
  },
  {
   "cell_type": "code",
   "execution_count": 44,
   "metadata": {},
   "outputs": [
    {
     "name": "stdout",
     "output_type": "stream",
     "text": [
      "train loss 0.370, val loss 1.067, val accuracy 0.749, val rmse 0.501, val f1 0.835, val f1macro 0.656, val f1weight 0.771\n",
      "train loss 0.307, val loss 0.886, val accuracy 0.796, val rmse 0.451, val f1 0.874, val f1macro 0.674, val f1weight 0.802\n",
      "train loss 0.292, val loss 1.144, val accuracy 0.775, val rmse 0.474, val f1 0.857, val f1macro 0.668, val f1weight 0.789\n",
      "train loss 0.271, val loss 1.095, val accuracy 0.766, val rmse 0.483, val f1 0.851, val f1macro 0.652, val f1weight 0.780\n",
      "train loss 0.258, val loss 1.273, val accuracy 0.767, val rmse 0.483, val f1 0.851, val f1macro 0.659, val f1weight 0.782\n",
      "train loss 0.246, val loss 1.272, val accuracy 0.768, val rmse 0.482, val f1 0.854, val f1macro 0.647, val f1weight 0.779\n",
      "train loss 0.231, val loss 1.363, val accuracy 0.787, val rmse 0.462, val f1 0.868, val f1macro 0.653, val f1weight 0.791\n",
      "train loss 0.219, val loss 1.441, val accuracy 0.786, val rmse 0.462, val f1 0.868, val f1macro 0.656, val f1weight 0.792\n",
      "train loss 0.218, val loss 1.505, val accuracy 0.795, val rmse 0.453, val f1 0.875, val f1macro 0.654, val f1weight 0.795\n",
      "train loss 0.209, val loss 1.608, val accuracy 0.794, val rmse 0.454, val f1 0.874, val f1macro 0.656, val f1weight 0.795\n",
      "train loss 0.209, val loss 1.633, val accuracy 0.792, val rmse 0.456, val f1 0.873, val f1macro 0.656, val f1weight 0.795\n",
      "train loss 0.202, val loss 1.769, val accuracy 0.804, val rmse 0.443, val f1 0.882, val f1macro 0.652, val f1weight 0.799\n",
      "train loss 0.197, val loss 1.821, val accuracy 0.807, val rmse 0.440, val f1 0.884, val f1macro 0.655, val f1weight 0.801\n",
      "train loss 0.199, val loss 1.872, val accuracy 0.802, val rmse 0.445, val f1 0.880, val f1macro 0.656, val f1weight 0.799\n",
      "train loss 0.194, val loss 1.915, val accuracy 0.796, val rmse 0.451, val f1 0.876, val f1macro 0.651, val f1weight 0.795\n",
      "train loss 0.193, val loss 1.969, val accuracy 0.795, val rmse 0.453, val f1 0.875, val f1macro 0.645, val f1weight 0.793\n",
      "train loss 0.189, val loss 2.002, val accuracy 0.783, val rmse 0.466, val f1 0.867, val f1macro 0.639, val f1weight 0.785\n",
      "train loss 0.187, val loss 2.124, val accuracy 0.782, val rmse 0.467, val f1 0.866, val f1macro 0.643, val f1weight 0.785\n",
      "train loss 0.186, val loss 2.102, val accuracy 0.786, val rmse 0.463, val f1 0.869, val f1macro 0.635, val f1weight 0.785\n",
      "train loss 0.185, val loss 2.200, val accuracy 0.773, val rmse 0.477, val f1 0.859, val f1macro 0.638, val f1weight 0.779\n"
     ]
    }
   ],
   "source": [
    "train_model(model, epochs=20, lr=0.01)"
   ]
  },
  {
   "cell_type": "code",
   "execution_count": 45,
   "metadata": {},
   "outputs": [
    {
     "name": "stdout",
     "output_type": "stream",
     "text": [
      "train loss 0.181, val loss 2.160, val accuracy 0.786, val rmse 0.463, val f1 0.869, val f1macro 0.641, val f1weight 0.787\n",
      "train loss 0.181, val loss 2.182, val accuracy 0.793, val rmse 0.455, val f1 0.874, val f1macro 0.641, val f1weight 0.790\n",
      "train loss 0.181, val loss 2.194, val accuracy 0.787, val rmse 0.462, val f1 0.870, val f1macro 0.639, val f1weight 0.787\n",
      "train loss 0.185, val loss 2.215, val accuracy 0.792, val rmse 0.456, val f1 0.874, val f1macro 0.639, val f1weight 0.789\n",
      "train loss 0.178, val loss 2.223, val accuracy 0.791, val rmse 0.458, val f1 0.873, val f1macro 0.643, val f1weight 0.790\n",
      "train loss 0.180, val loss 2.236, val accuracy 0.789, val rmse 0.459, val f1 0.872, val f1macro 0.640, val f1weight 0.788\n",
      "train loss 0.181, val loss 2.249, val accuracy 0.792, val rmse 0.456, val f1 0.874, val f1macro 0.640, val f1weight 0.790\n",
      "train loss 0.181, val loss 2.258, val accuracy 0.785, val rmse 0.464, val f1 0.869, val f1macro 0.638, val f1weight 0.786\n",
      "train loss 0.179, val loss 2.271, val accuracy 0.788, val rmse 0.460, val f1 0.871, val f1macro 0.638, val f1weight 0.787\n",
      "train loss 0.177, val loss 2.287, val accuracy 0.784, val rmse 0.465, val f1 0.868, val f1macro 0.634, val f1weight 0.784\n",
      "train loss 0.179, val loss 2.291, val accuracy 0.787, val rmse 0.462, val f1 0.870, val f1macro 0.634, val f1weight 0.785\n",
      "train loss 0.178, val loss 2.298, val accuracy 0.785, val rmse 0.464, val f1 0.869, val f1macro 0.635, val f1weight 0.785\n",
      "train loss 0.177, val loss 2.323, val accuracy 0.786, val rmse 0.463, val f1 0.870, val f1macro 0.635, val f1weight 0.785\n",
      "train loss 0.179, val loss 2.342, val accuracy 0.784, val rmse 0.465, val f1 0.868, val f1macro 0.638, val f1weight 0.785\n",
      "train loss 0.176, val loss 2.356, val accuracy 0.786, val rmse 0.463, val f1 0.869, val f1macro 0.636, val f1weight 0.785\n",
      "train loss 0.177, val loss 2.350, val accuracy 0.783, val rmse 0.466, val f1 0.867, val f1macro 0.633, val f1weight 0.783\n",
      "train loss 0.180, val loss 2.364, val accuracy 0.778, val rmse 0.471, val f1 0.864, val f1macro 0.631, val f1weight 0.780\n",
      "train loss 0.176, val loss 2.386, val accuracy 0.783, val rmse 0.466, val f1 0.867, val f1macro 0.633, val f1weight 0.783\n",
      "train loss 0.176, val loss 2.401, val accuracy 0.779, val rmse 0.470, val f1 0.865, val f1macro 0.634, val f1weight 0.781\n",
      "train loss 0.176, val loss 2.408, val accuracy 0.780, val rmse 0.469, val f1 0.866, val f1macro 0.632, val f1weight 0.782\n"
     ]
    }
   ],
   "source": [
    "train_model(model, epochs=20, lr=0.001)"
   ]
  },
  {
   "cell_type": "markdown",
   "metadata": {},
   "source": [
    "Al observar la métrica de referencia sobre el conjunto de validación (f1 macro) podemos notar que ambos modelos convergen a valores similares. Podemos notar que el modelo LSTM llega a valores pico un poco menores que el modelo CNN a través de las épocas, pero también es más regular, es decir, luego de las épocas necesarias para alcanzar el valor pico, el modelo se estabiliza bastante sobre esta métrica, es decir, este modelo previene mejor el sobreajuste que el modelo CNN, que si bien alcanza un valor pico mayor, luego decrece su rendimiento. Esto puede solucionarse con una regularización más fuerte en el modelo CNN, ya sea agregando normalización en batch o aumentando el término de regularización l2 en el optimizador. Veamos que la cantidad de parámetros de los modelos es comparable."
   ]
  },
  {
   "cell_type": "code",
   "execution_count": 47,
   "metadata": {},
   "outputs": [],
   "source": [
    "model_parameters = filter(lambda p: p.requires_grad, model.parameters())\n",
    "params = sum([np.prod(p.size()) for p in model_parameters])"
   ]
  },
  {
   "cell_type": "markdown",
   "metadata": {},
   "source": [
    "Número de parámetros entrenables en el modelo CNN"
   ]
  },
  {
   "cell_type": "code",
   "execution_count": 48,
   "metadata": {},
   "outputs": [
    {
     "data": {
      "text/plain": [
       "919114"
      ]
     },
     "execution_count": 48,
     "metadata": {},
     "output_type": "execute_result"
    }
   ],
   "source": [
    "params"
   ]
  },
  {
   "cell_type": "code",
   "execution_count": 51,
   "metadata": {},
   "outputs": [],
   "source": [
    "model_parameters = filter(lambda p: p.requires_grad, model_fixed.parameters())\n",
    "params = sum([np.prod(p.size()) for p in model_parameters])"
   ]
  },
  {
   "cell_type": "markdown",
   "metadata": {},
   "source": [
    "Número de parámetros entrenables en el modelo LSTM"
   ]
  },
  {
   "cell_type": "code",
   "execution_count": 53,
   "metadata": {},
   "outputs": [
    {
     "data": {
      "text/plain": [
       "918302"
      ]
     },
     "execution_count": 53,
     "metadata": {},
     "output_type": "execute_result"
    }
   ],
   "source": [
    "params"
   ]
  },
  {
   "cell_type": "code",
   "execution_count": 58,
   "metadata": {},
   "outputs": [],
   "source": [
    "def sigmoid(x):\n",
    "    return 1 / (1 + math.exp(-x))"
   ]
  },
  {
   "cell_type": "code",
   "execution_count": 67,
   "metadata": {},
   "outputs": [],
   "source": [
    "predy_cnn = []\n",
    "predy_cnn_prob = []\n",
    "predy_lstm = []\n",
    "predy_lstm_prob = []\n",
    "truey = []\n",
    "model_fixed.eval()\n",
    "model.eval()\n",
    "for i in range(len(valid_ds)):\n",
    "    a,b,c = valid_ds[i]\n",
    "    predy_lstm.append(model_fixed(a.long().unsqueeze(0),c).detach().numpy().argmax())\n",
    "    predy_lstm_prob.append(sigmoid(model_fixed(a.long().unsqueeze(0),c).detach().numpy()[:,1]))\n",
    "    predy_cnn.append(model(a.long().unsqueeze(0),c).detach().numpy().argmax())\n",
    "    predy_cnn_prob.append(sigmoid(model(a.long().unsqueeze(0),c).detach().numpy()[1]))\n",
    "    truey.append(b)"
   ]
  },
  {
   "cell_type": "code",
   "execution_count": 68,
   "metadata": {},
   "outputs": [
    {
     "name": "stdout",
     "output_type": "stream",
     "text": [
      "              precision    recall  f1-score   support\n",
      "\n",
      "           0       0.39      0.41      0.40       587\n",
      "           1       0.87      0.86      0.87      2674\n",
      "\n",
      "    accuracy                           0.78      3261\n",
      "   macro avg       0.63      0.63      0.63      3261\n",
      "weighted avg       0.78      0.78      0.78      3261\n",
      " \n",
      "\n",
      "\n"
     ]
    },
    {
     "data": {
      "image/png": "[encoded data removed]",
      "text/plain": [
       "<Figure size 432x432 with 1 Axes>"
      ]
     },
     "metadata": {},
     "output_type": "display_data"
    },
    {
     "data": {
      "image/png": "[encoded data removed]",
      "text/plain": [
       "<Figure size 864x360 with 2 Axes>"
      ]
     },
     "metadata": {},
     "output_type": "display_data"
    }
   ],
   "source": [
    "informar_resultados(truey, predy_cnn, predy_cnn_prob)"
   ]
  },
  {
   "cell_type": "code",
   "execution_count": 69,
   "metadata": {},
   "outputs": [
    {
     "name": "stdout",
     "output_type": "stream",
     "text": [
      "              precision    recall  f1-score   support\n",
      "\n",
      "           0       0.38      0.65      0.48       587\n",
      "           1       0.91      0.77      0.84      2674\n",
      "\n",
      "    accuracy                           0.75      3261\n",
      "   macro avg       0.65      0.71      0.66      3261\n",
      "weighted avg       0.81      0.75      0.77      3261\n",
      " \n",
      "\n",
      "\n"
     ]
    },
    {
     "data": {
      "image/png": "[encoded data removed]",
      "text/plain": [
       "<Figure size 432x432 with 1 Axes>"
      ]
     },
     "metadata": {},
     "output_type": "display_data"
    },
    {
     "data": {
      "image/png": "[encoded data removed]",
      "text/plain": [
       "<Figure size 864x360 with 2 Axes>"
      ]
     },
     "metadata": {},
     "output_type": "display_data"
    }
   ],
   "source": [
    "informar_resultados(truey, predy_lstm, predy_lstm_prob)"
   ]
  },
  {
   "cell_type": "markdown",
   "metadata": {
    "colab_type": "text",
    "id": "7XZ7zetuqU2V"
   },
   "source": [
    "## **Conclusiones**\n",
    "Ambos modelos presentan un desempeño muy similar, y comparable a los modelos de clasificación clásicos con el mejor tratamiento de datos posible. Esto es positivo, ya que en estos modelos no tuvimos que aplicar criterios de selección de palabras ni de texto, y de todas maneras obtuvimos resultados comparables.\n",
    "Las desventajas que presentan estos modelos son principalmente la no interpretabilidad de los mismos, ya que es muy dificil conocer la relación entre las variables de entrada y la salida final, y sobre todo el tiempo y la capacidad de cómputo, ya que estos modelos fueron entrenados sobre GPU, sin lo cual se hacen muy lentos."
   ]
  },
  {
   "cell_type": "markdown",
   "metadata": {
    "colab_type": "text",
    "id": "Z1GOh_UTIz8c"
   },
   "source": [
    "### **Referencias**\n",
    "\n",
    "[Capa LSTM](https://pytorch.org/docs/stable/generated/torch.nn.LSTM.html)\n",
    "\n",
    "[Capa Convolucional 1d](https://pytorch.org/docs/stable/generated/torch.nn.Conv1d.html)\n",
    "\n",
    "\n",
    "\n",
    "[Embedding de palabras en Torch](https://pytorch.org/docs/stable/generated/torch.nn.Embedding.html)\n",
    "\n",
    "\n",
    "\n",
    "\n"
   ]
  },
  {
   "cell_type": "code",
   "execution_count": null,
   "metadata": {},
   "outputs": [],
   "source": []
  }
 ],
 "metadata": {
  "colab": {
   "collapsed_sections": [],
   "name": "Practico_3y4_part_5.ipynb",
   "provenance": []
  },
  "kernelspec": {
   "display_name": "Python 3",
   "language": "python",
   "name": "python3"
  },
  "language_info": {
   "codemirror_mode": {
    "name": "ipython",
    "version": 3
   },
   "file_extension": ".py",
   "mimetype": "text/x-python",
   "name": "python",
   "nbconvert_exporter": "python",
   "pygments_lexer": "ipython3",
   "version": "3.8.5"
  }
 },
 "nbformat": 4,
 "nbformat_minor": 1
}
